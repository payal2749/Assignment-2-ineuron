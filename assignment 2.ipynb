{
 "cells": [
  {
   "cell_type": "code",
   "execution_count": 22,
   "metadata": {},
   "outputs": [
    {
     "name": "stdout",
     "output_type": "stream",
     "text": [
      "Enter:4\n",
      "* \n",
      "* * \n",
      "* * * \n",
      "* * * * \n",
      "* * * \n",
      "* * \n",
      "* \n"
     ]
    }
   ],
   "source": [
    "#Pyramid Star Pattern\n",
    "s=int(input(\"Enter:\"))\n",
    "k=1\n",
    "p=s-1\n",
    "o=s-1\n",
    "for i in range(0,s):\n",
    "    for j in range(0,k):\n",
    "        print(\"*\",end=\" \")\n",
    "    k=k+1\n",
    "    print()\n",
    "    \n",
    "for i in range(0,p):\n",
    "    for j in range(0,o):\n",
    "        print(\"*\", end=\" \")\n",
    "    o=o-1\n",
    "    print()\n",
    "\n",
    "        \n",
    "        \n",
    "        "
   ]
  },
  {
   "cell_type": "markdown",
   "metadata": {},
   "source": [
    "# Revesing the String"
   ]
  },
  {
   "cell_type": "code",
   "execution_count": 1,
   "metadata": {},
   "outputs": [
    {
     "name": "stdout",
     "output_type": "stream",
     "text": [
      "Input string to reverseineuron\n",
      "norueni\n"
     ]
    }
   ],
   "source": [
    "first=str(input(\"Input string to reverse\"))\n",
    "print(first[::-1])\n"
   ]
  },
  {
   "cell_type": "code",
   "execution_count": null,
   "metadata": {},
   "outputs": [],
   "source": []
  }
 ],
 "metadata": {
  "kernelspec": {
   "display_name": "Python 3",
   "language": "python",
   "name": "python3"
  },
  "language_info": {
   "codemirror_mode": {
    "name": "ipython",
    "version": 3
   },
   "file_extension": ".py",
   "mimetype": "text/x-python",
   "name": "python",
   "nbconvert_exporter": "python",
   "pygments_lexer": "ipython3",
   "version": "3.7.3"
  }
 },
 "nbformat": 4,
 "nbformat_minor": 2
}
